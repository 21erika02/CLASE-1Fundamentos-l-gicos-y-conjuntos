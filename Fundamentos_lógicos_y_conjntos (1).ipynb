{
  "nbformat": 4,
  "nbformat_minor": 0,
  "metadata": {
    "colab": {
      "provenance": []
    },
    "kernelspec": {
      "name": "python3",
      "display_name": "Python 3"
    },
    "language_info": {
      "name": "python"
    }
  },
  "cells": [
    {
      "cell_type": "code",
      "execution_count": null,
      "metadata": {
        "id": "9YKCKA3j0QIv"
      },
      "outputs": [],
      "source": [
        "Resumen clase 1"
      ]
    },
    {
      "cell_type": "markdown",
      "source": [],
      "metadata": {
        "id": "gEn6nRQLfaVK"
      }
    },
    {
      "cell_type": "code",
      "source": [
        "Math"
      ],
      "metadata": {
        "id": "yeMymnyOfa77"
      },
      "execution_count": null,
      "outputs": []
    },
    {
      "cell_type": "markdown",
      "source": [
        "Logica proporcional y teoria de conjuntos.\n",
        "Conectores logicos.\n"
      ],
      "metadata": {
        "id": "LnfmuP9B1ReS"
      }
    },
    {
      "cell_type": "markdown",
      "source": [
        "I. Lógica Proposicional y teoria de conjuntos.\n",
        "A. Conectores lógicos básicos\n",
        "\n",
        "Conjunción (∧): \"y\"\n",
        "\n",
        "Disyunción (∨): \"o\"\n",
        "\n",
        "Negación (¬): \"no\"\n",
        "\n",
        "Implicación (→): \"si... entonces\"\n",
        "Doble implicación (↔): \"si y solo si\"\n",
        "B. Tablas de verdad\n",
        "\n",
        "Ejemplo de tabla de verdad para P → Q:\n",
        "\n",
        "*P\tQ\tP → Q\n",
        "\n",
        "V\tV\tV\n",
        "\n",
        "V\tF\tF\n",
        "\n",
        "F\tV\tV\n",
        "\n",
        "F\tF\tV\n",
        "\n",
        "\n",
        "*P  ʌ Q\n",
        "\n",
        "V V V\n",
        "\n",
        "V F F\n",
        "\n",
        "\n",
        "F F V\n",
        "\n",
        "F F F\n",
        "\n",
        "*V-> Q\n",
        "\n",
        "V V V\n",
        "\n",
        "V F F\n",
        "\n",
        "F V V\n",
        "\n",
        "F V F\n",
        "\n",
        "*P<-> Q\n",
        "\n",
        "V V V\n",
        "\n",
        "V F F\n",
        "\n",
        "F F V\n",
        "\n",
        "F V F\n",
        "\n",
        "La implicación solo es falsa cuando el antecedente es verdadero y el consecuente es falso.\n",
        "\n",
        "C. Cuantificadores lógicos\n",
        "\n",
        "Existencial (∃): \"Existe\"\n",
        "\n",
        "Universal (∀): \"Para todo\"\n",
        "\n",
        "-Moda es mejor que el real madrid.\n",
        "\n",
        "-Un sanduche es mejor que moda.\n",
        "\n",
        "-Un sanduche es mejor que R.M.\n",
        "\n",
        "Ejemplos:\n",
        "\n",
        "\n",
        "∃x ∀y: \"Existe un x para todo y\"\n",
        "\n",
        "∀y ∃x: \"Para todo y existe un x\"\n",
        "\n",
        "Importante: El orden de los cuantificadores afecta el significado lógico.\n",
        "\n",
        "Analogia:\"Todos tienen una historia, ninguna como la mía.\"\n",
        "\n",
        "∃x ∀y: existe una historia para todas las personas (incoorecto)\n",
        "\n",
        "∀y ∃x: Para toda persona existe una historia (correcto)\n",
        "\n",
        ". Negación de cuantificadores\n",
        "\n",
        "\n",
        "Negación de ∃x P(x): ∀x ¬P(x)\n",
        "\n",
        "Negación de ∀x P(x): ∃x ¬P(x)\n",
        "\n",
        "II. Conjuntos Numéricos\n",
        "\n",
        "A. Conjuntos numéricos básicos y notación\n",
        "\n",
        "Números naturales (ℕ): {0, 1, 2, 3, ...}\n",
        "\n",
        "Nota: Existe ambigüedad sobre la inclusión del 0 (varía según el país)\n",
        "\n",
        "Enteros (ℤ): Incluye naturales y negativos\n",
        "\n",
        "Números racionales (ℚ): Forma n/m, donde n ∈ ℤ y m ∈ ℕ\n",
        "\n",
        "Números reales (ℝ): Representados en la recta real\n",
        "\n",
        "B. Relación de contención\n",
        "\n",
        "ℕ ⊂ ℤ ⊂ ℚ ⊂ ℝ\n",
        "\n",
        "C. Notación matemática\n",
        "\n",
        "Doble barra (ejemplo: ℕ): Indica un conjunto bien definido\n",
        "\n",
        "ℕ: Naturales\n",
        "\n",
        "ℤ: Enteros\n",
        "\n",
        "ℚ: Racionales (Q por \"cociente\")\n",
        "\n",
        "ℝ: Reales\n",
        "\n",
        " Ejemplo\n",
        "\n",
        " print(\"Conjunto de números naturales: ℕ\")\n",
        "\n",
        "print(\"Conjunto de números enteros: ℤ\")\n",
        "\n",
        "print(\"Conjunto de números racionales: ℚ\")\n",
        "\n",
        "print(\"Conjunto de números reales: ℝ\")\n"
      ],
      "metadata": {
        "id": "4EVyO-OGdye3"
      }
    },
    {
      "cell_type": "markdown",
      "source": [],
      "metadata": {
        "id": "fTk31f40yJrA"
      }
    },
    {
      "cell_type": "markdown",
      "source": [],
      "metadata": {
        "id": "P5Q71bI7q86A"
      }
    },
    {
      "cell_type": "code",
      "source": [],
      "metadata": {
        "id": "_5nkme17q9_m"
      },
      "execution_count": null,
      "outputs": []
    }
  ]
}